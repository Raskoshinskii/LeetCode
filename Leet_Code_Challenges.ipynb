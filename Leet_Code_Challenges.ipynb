{
 "cells": [
  {
   "cell_type": "markdown",
   "metadata": {},
   "source": [
    "### Leet Code Challenges \n",
    "Practical solutions for leet code challenges \n",
    "\n",
    "### Two Sum\n",
    "Given an array of integers `nums` and an integer `target`, return *indices of the two numbers such that they add up to `target`*\n",
    "\n",
    "You may assume that each input would have exactly one solution, and you may not use the same element twice.\n",
    "\n",
    "You can return the answer in any order.\n",
    "\n",
    "`\n",
    "Input: nums = [2,7,11,15], target = 9\n",
    "Output: [0,1]\n",
    "Explanation: Because nums[0] + nums[1] == 9, we return [0, 1]\n",
    "`"
   ]
  },
  {
   "cell_type": "code",
   "execution_count": 1,
   "metadata": {},
   "outputs": [
    {
     "data": {
      "text/plain": [
       "[0, 1]"
      ]
     },
     "execution_count": 1,
     "metadata": {},
     "output_type": "execute_result"
    }
   ],
   "source": [
    "# Time Complexity: O(n2) ~ BruteForce Solution\n",
    "# Memory Complexity: O(1) ~ Don't store anything \n",
    "def two_sum(arr, target):\n",
    "    for i in range(len(arr)):\n",
    "        for j in range(i+1, len(arr)):\n",
    "            if arr[i] + arr[j] == target:\n",
    "                return [i, j]\n",
    "    # if solution does not exist\n",
    "    return None \n",
    "            \n",
    "nums = [2,7,11,15]\n",
    "target = 9\n",
    "two_sum(arr=nums, target=target)"
   ]
  },
  {
   "cell_type": "code",
   "execution_count": 3,
   "metadata": {},
   "outputs": [
    {
     "data": {
      "text/plain": [
       "[0, 1]"
      ]
     },
     "execution_count": 3,
     "metadata": {},
     "output_type": "execute_result"
    }
   ],
   "source": [
    "# Time Complexity: O(n) ~ The best solution\n",
    "# Memory Complexity: O(n) ~ because we use has_table\n",
    "def two_sum(arr, target):\n",
    "    \"\"\"\n",
    "    Logic: We define difference between target and array elements (e.g. diff = target - arr[i])\n",
    "    If diff in array => this is the only value that add up with the arr[i] and equals to target\n",
    "    \n",
    "    Then we have to create has_table to map (val:index)\n",
    "    We cannot use the same value twice!!! Thus, each time we check if diff value in the has_table\n",
    "    \"\"\"\n",
    "    prevMap = {} # val:index\n",
    "    for i, val in enumerate(arr):\n",
    "        diff  = target - val\n",
    "        if diff in prevMap: # if there is such element, we found a solution!!! \n",
    "            return [prevMap[diff], i]\n",
    "        else: # if there is no such element, we update has_table\n",
    "            prevMap[val] = i\n",
    "            \n",
    "    # If solution does not exist\n",
    "    return None \n",
    "            \n",
    "nums = [2,7,11,15]\n",
    "target = 9\n",
    "two_sum(arr=nums, target=target)    "
   ]
  },
  {
   "cell_type": "markdown",
   "metadata": {},
   "source": [
    "### Best Time to Buy and Sell Stock\n",
    "You are given an array `prices` where `prices[i]` is the price of a given stock on the `ith` day.\n",
    "\n",
    "You want to maximize your profit by choosing a **single day** to buy one stock and choosing a **different day in the future** to sell that stock.\n",
    "\n",
    "Return *the maximum profit you can achieve from this transaction.* If you cannot achieve any profit, return 0.\n",
    "\n",
    "`\n",
    "Input: prices = [7,1,5,3,6,4]\n",
    "Output: 5\n",
    "Explanation: Buy on day 2 (price = 1) and sell on day 5 (price = 6), profit = 6-1 = 5.\n",
    "Note that buying on day 2 and selling on day 1 is not allowed because you must buy before you sell\n",
    "`"
   ]
  },
  {
   "cell_type": "code",
   "execution_count": 11,
   "metadata": {},
   "outputs": [
    {
     "data": {
      "text/plain": [
       "5"
      ]
     },
     "execution_count": 11,
     "metadata": {},
     "output_type": "execute_result"
    }
   ],
   "source": [
    "# Time Complexity: O(n)\n",
    "# Memory Complexity: O(1) \n",
    "def find_max_profit(arr):\n",
    "    \"\"\"\n",
    "    Logic: two pointers solution. Left_pointer - buy, right_pointer - sell + initialize max_profit value \n",
    "    Iterate through the entire array and each time compare left and right pointers \n",
    "    \"\"\"\n",
    "    \n",
    "    left_p = 0 # left pointer (buy pointer)\n",
    "    right_p = 1 # right pointer (sell pointer)\n",
    "    max_profit = 0 \n",
    "    \n",
    "    while right_p < len(arr): \n",
    "        if arr[left_p] < arr[right_p]:  # If it's profitable \n",
    "            profit = arr[right_p] - arr[left_p]\n",
    "            max_profit = max(max_profit, profit) # if new max_profit found \n",
    "        else: # if it's not profitable => shift left_pointer to the postion of the right_pointer \n",
    "            left_p = right_p\n",
    "        right_p += 1\n",
    "        \n",
    "    return max_profit\n",
    "        \n",
    "prices = [7,1,5,3,6,4]\n",
    "find_max_profit(prices)"
   ]
  },
  {
   "cell_type": "markdown",
   "metadata": {},
   "source": [
    "### Contains Duplicate\n",
    "Given an integer array `nums`, return `true` if any value appears **at least twice** in the array, and return `false` if every element is distinct.\n",
    "\n",
    "`\n",
    "Input: nums = [1,2,3,1]\n",
    "Output: true\n",
    "`"
   ]
  },
  {
   "cell_type": "code",
   "execution_count": 18,
   "metadata": {},
   "outputs": [
    {
     "data": {
      "text/plain": [
       "True"
      ]
     },
     "execution_count": 18,
     "metadata": {},
     "output_type": "execute_result"
    }
   ],
   "source": [
    "# Time Complexity: O(n2)\n",
    "# Memory Complexity: O(1)\n",
    "def containsDuplicate(arr):\n",
    "    left_p = 0\n",
    "    right_p = 1\n",
    "    while right_p <= len(arr):\n",
    "        if arr[left_p] in arr[right_p:]:\n",
    "            return True \n",
    "        left_p += 1\n",
    "        right_p += 1\n",
    "    return False\n",
    "    \n",
    "nums = [1, 2, 3, 1]\n",
    "containsDuplicate(nums)"
   ]
  },
  {
   "cell_type": "code",
   "execution_count": 16,
   "metadata": {},
   "outputs": [
    {
     "data": {
      "text/plain": [
       "True"
      ]
     },
     "execution_count": 16,
     "metadata": {},
     "output_type": "execute_result"
    }
   ],
   "source": [
    "# Time Complexity: O(n)\n",
    "# Memory Complexity: O(n)\n",
    "def contains_duplicate(arr):\n",
    "    numbers_set = set() # keep unique values \n",
    "    for element in arr:\n",
    "        if element in numbers_set: # check if the current value already exists (i.e. is a duplicate)\n",
    "            return True    \n",
    "        numbers_set.add(element)\n",
    "    return False \n",
    "        \n",
    "nums = [1, 2, 3, 1]\n",
    "containsDuplicate(nums)"
   ]
  },
  {
   "cell_type": "markdown",
   "metadata": {},
   "source": [
    "### Product of Array Except Self\n",
    "Given an integer array `nums`, return an array answer such that `answer[i]` *is equal to the product of all the elements of `nums` except `nums[i]`*\n",
    "\n",
    "The product of any `prefix` or `suffix` of nums is guaranteed to fit in a 32-bit integer.\n",
    "\n",
    "**You must write an algorithm that runs in O(n) time and without using the division operation.**\n",
    "\n",
    "`\n",
    "Input: nums = [1,2,3,4]\n",
    "Output: [24,12,8,6]\n",
    "`"
   ]
  },
  {
   "cell_type": "code",
   "execution_count": 11,
   "metadata": {},
   "outputs": [
    {
     "data": {
      "text/plain": [
       "[12, 24, 48, 6]"
      ]
     },
     "execution_count": 11,
     "metadata": {},
     "output_type": "execute_result"
    }
   ],
   "source": [
    "# Complexity\n",
    "# Memory Complexity: O(n)*O(n)\n",
    "def find_product_array(arr):\n",
    "    prefixes = [] # Complexity: O(n)\n",
    "    suffixes = [] # Complexity: O(n)\n",
    "    \n",
    "    # Fill prefixes\n",
    "    prod_val = 1\n",
    "    for val in arr:\n",
    "        prod_val*= val\n",
    "        prefixes.append(prod_val)\n",
    "        \n",
    "    # Fill suffixes\n",
    "    prod_val = 1\n",
    "    for val in arr[::-1]:\n",
    "        prod_val *= val\n",
    "        suffixes.append(prod_val)\n",
    "        \n",
    "    result = []\n",
    "    for indx, val in enumerate(arr):\n",
    "        if indx == 0:\n",
    "            result.append(1*suffixes[indx+1])\n",
    "        elif indx == len(arr)-1:\n",
    "            result.append(prefixes[indx-1]*1)\n",
    "        else:\n",
    "            result.append(prefixes[indx-1]*suffixes[indx+1])\n",
    "            \n",
    "    return result\n",
    "        \n",
    "\n",
    "        \n",
    "find_product_array(arr = [1,2,3,4])"
   ]
  },
  {
   "cell_type": "code",
   "execution_count": null,
   "metadata": {},
   "outputs": [],
   "source": []
  },
  {
   "cell_type": "code",
   "execution_count": null,
   "metadata": {},
   "outputs": [],
   "source": []
  },
  {
   "cell_type": "code",
   "execution_count": null,
   "metadata": {},
   "outputs": [],
   "source": []
  },
  {
   "cell_type": "code",
   "execution_count": null,
   "metadata": {},
   "outputs": [],
   "source": []
  }
 ],
 "metadata": {
  "kernelspec": {
   "display_name": "Python 3",
   "language": "python",
   "name": "python3"
  },
  "language_info": {
   "codemirror_mode": {
    "name": "ipython",
    "version": 3
   },
   "file_extension": ".py",
   "mimetype": "text/x-python",
   "name": "python",
   "nbconvert_exporter": "python",
   "pygments_lexer": "ipython3",
   "version": "3.7.9"
  }
 },
 "nbformat": 4,
 "nbformat_minor": 4
}
